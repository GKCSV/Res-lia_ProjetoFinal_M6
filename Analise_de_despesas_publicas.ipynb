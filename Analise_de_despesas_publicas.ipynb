{
  "nbformat": 4,
  "nbformat_minor": 0,
  "metadata": {
    "colab": {
      "name": "Analise_de_despesas_publicas.ipynb",
      "provenance": [],
      "collapsed_sections": [],
      "authorship_tag": "ABX9TyOSSd1vWZfHT4eSwe6aSg3/",
      "include_colab_link": true
    },
    "kernelspec": {
      "name": "python3",
      "display_name": "Python 3"
    },
    "language_info": {
      "name": "python"
    }
  },
  "cells": [
    {
      "cell_type": "markdown",
      "metadata": {
        "id": "view-in-github",
        "colab_type": "text"
      },
      "source": [
        "<a href=\"https://colab.research.google.com/github/GKCSV/Resilia_ProjetoFinal_M6/blob/GK/Analise_de_despesas_publicas.ipynb\" target=\"_parent\"><img src=\"https://colab.research.google.com/assets/colab-badge.svg\" alt=\"Open In Colab\"/></a>"
      ]
    },
    {
      "cell_type": "markdown",
      "source": [
        "#**ANÁLISE DE DESPESAS PÚBLICAS GERADAS POR DEPUTADOS NOS ANOS DE 2019, 2020 E 2021**"
      ],
      "metadata": {
        "id": "oBdmpqfcNXoS"
      }
    },
    {
      "cell_type": "markdown",
      "source": [
        "#**1. Preparação dos dados para consultas:**"
      ],
      "metadata": {
        "id": "JLHf6GvUZBoO"
      }
    },
    {
      "cell_type": "markdown",
      "source": [
        "##1.1. Inicialização do ambiente e importação dos dados:"
      ],
      "metadata": {
        "id": "ewuhg9wxNX5D"
      }
    },
    {
      "cell_type": "code",
      "execution_count": 61,
      "metadata": {
        "id": "dHEH7rrcM4uD"
      },
      "outputs": [],
      "source": [
        "import pandas as pd\n",
        "import numpy as np\n",
        "import seaborn as sns\n",
        "import matplotlib.pyplot as plt\n",
        "import plotly.graph_objects as go\n",
        "from matplotlib.ticker import StrMethodFormatter\n",
        "from sklearn.preprocessing import MinMaxScaler"
      ]
    },
    {
      "cell_type": "code",
      "source": [
        "despesas2019 = pd.read_csv('https://raw.githubusercontent.com/GKCSV/Resilia_ProjetoFinal_M6/main/Ano-2019.csv', sep = ';')\n",
        "despesas2020 = pd.read_csv('https://raw.githubusercontent.com/GKCSV/Resilia_ProjetoFinal_M6/main/Ano-2020.csv', sep = ';')\n",
        "despesas2021 = pd.read_csv('https://raw.githubusercontent.com/GKCSV/Resilia_ProjetoFinal_M6/main/Ano-2021.csv', sep = ';')"
      ],
      "metadata": {
        "id": "IZCzr9yHRYeD"
      },
      "execution_count": 62,
      "outputs": []
    },
    {
      "cell_type": "markdown",
      "source": [
        "##1.2. Formatação do dataset:"
      ],
      "metadata": {
        "id": "8TcLFWvkSQiE"
      }
    },
    {
      "cell_type": "markdown",
      "source": [
        "###1.2.1. Mesclagem dos DataFrames para um único:"
      ],
      "metadata": {
        "id": "nvf7scUQSwH3"
      }
    },
    {
      "cell_type": "code",
      "source": [
        "despesas1920 = pd.merge(despesas2019, despesas2020, how='outer')\n",
        "despesas_gerais = pd.merge(despesas1920, despesas2021, how='outer')"
      ],
      "metadata": {
        "id": "cTP16CACSPIa"
      },
      "execution_count": 63,
      "outputs": []
    },
    {
      "cell_type": "markdown",
      "source": [
        "###1.2.2. Visualizando as colunas presentes:"
      ],
      "metadata": {
        "id": "QPb_kyT-XMrl"
      }
    },
    {
      "cell_type": "code",
      "source": [
        "despesas_gerais.columns.tolist()"
      ],
      "metadata": {
        "colab": {
          "base_uri": "https://localhost:8080/"
        },
        "id": "3QeM7Mn8Qec8",
        "outputId": "20ac4545-f1c8-45d0-81c0-d185a9e99ef7"
      },
      "execution_count": 64,
      "outputs": [
        {
          "output_type": "execute_result",
          "data": {
            "text/plain": [
              "['txNomeParlamentar',\n",
              " 'cpf',\n",
              " 'ideCadastro',\n",
              " 'nuCarteiraParlamentar',\n",
              " 'nuLegislatura',\n",
              " 'sgUF',\n",
              " 'sgPartido',\n",
              " 'codLegislatura',\n",
              " 'numSubCota',\n",
              " 'txtDescricao',\n",
              " 'numEspecificacaoSubCota',\n",
              " 'txtDescricaoEspecificacao',\n",
              " 'txtFornecedor',\n",
              " 'txtCNPJCPF',\n",
              " 'txtNumero',\n",
              " 'indTipoDocumento',\n",
              " 'datEmissao',\n",
              " 'vlrDocumento',\n",
              " 'vlrGlosa',\n",
              " 'vlrLiquido',\n",
              " 'numMes',\n",
              " 'numAno',\n",
              " 'numParcela',\n",
              " 'txtPassageiro',\n",
              " 'txtTrecho',\n",
              " 'numLote',\n",
              " 'numRessarcimento',\n",
              " 'vlrRestituicao',\n",
              " 'nuDeputadoId',\n",
              " 'ideDocumento',\n",
              " 'urlDocumento']"
            ]
          },
          "metadata": {},
          "execution_count": 64
        }
      ]
    },
    {
      "cell_type": "markdown",
      "source": [
        "###1.2.3 Exclusão de colunas não-utilizadas através do comando .drop():\n",
        "###Serão removidas as colunas:\n",
        "\n",
        "'cpf'\n",
        "\n",
        "'nuCarteiraParlamentar'\n",
        "\n",
        "'nuLegislatura'\n",
        "\n",
        "'codLegislatura'\n",
        "\n",
        "'numSubCota'\n",
        "\n",
        "'numEspecificacaoSubCota'\n",
        "\n",
        "'txtNumero'\n",
        "\n",
        "'indTipoDocumento'\n",
        "\n",
        "'numParcela'\n",
        "\n",
        "'txtTrecho'\n",
        "\n",
        "'numLote'\n",
        "\n",
        "'numRessarcimento'"
      ],
      "metadata": {
        "id": "NwBVY5-YUUcB"
      }
    },
    {
      "cell_type": "code",
      "source": [
        "excluir_colunas = despesas_gerais.drop(columns=['cpf', 'nuCarteiraParlamentar', 'nuLegislatura', 'codLegislatura', 'numSubCota', 'numEspecificacaoSubCota', 'txtNumero', 'indTipoDocumento', 'vlrDocumento', 'vlrGlosa', 'numParcela', 'txtTrecho', 'numLote', 'numRessarcimento', 'vlrRestituicao'])\n"
      ],
      "metadata": {
        "id": "QJBHvMgaUdSP"
      },
      "execution_count": 65,
      "outputs": []
    },
    {
      "cell_type": "markdown",
      "source": [
        "###1.2.4. Criando cópia do dataset para atualização de nomeação:"
      ],
      "metadata": {
        "id": "cmd44qR5WDMz"
      }
    },
    {
      "cell_type": "code",
      "source": [
        "despesas_selecionadas = excluir_colunas.copy()"
      ],
      "metadata": {
        "id": "XsTUoVLtV1jh"
      },
      "execution_count": 66,
      "outputs": []
    },
    {
      "cell_type": "markdown",
      "source": [
        "###1.2.5 Visualizando os tipos de dados presentes nas colunas:"
      ],
      "metadata": {
        "id": "o4ph5xnbWc6n"
      }
    },
    {
      "cell_type": "code",
      "source": [
        "despesas_selecionadas.info()"
      ],
      "metadata": {
        "colab": {
          "base_uri": "https://localhost:8080/"
        },
        "id": "8_XxDJOFWj_H",
        "outputId": "7e13ca53-6bdc-4927-84bb-1ad8095846b5"
      },
      "execution_count": 67,
      "outputs": [
        {
          "output_type": "stream",
          "name": "stdout",
          "text": [
            "<class 'pandas.core.frame.DataFrame'>\n",
            "Int64Index: 555500 entries, 0 to 555499\n",
            "Data columns (total 16 columns):\n",
            " #   Column                     Non-Null Count   Dtype  \n",
            "---  ------                     --------------   -----  \n",
            " 0   txNomeParlamentar          555500 non-null  object \n",
            " 1   ideCadastro                553759 non-null  float64\n",
            " 2   sgUF                       553759 non-null  object \n",
            " 3   sgPartido                  553759 non-null  object \n",
            " 4   txtDescricao               555500 non-null  object \n",
            " 5   txtDescricaoEspecificacao  136177 non-null  object \n",
            " 6   txtFornecedor              555467 non-null  object \n",
            " 7   txtCNPJCPF                 531710 non-null  object \n",
            " 8   datEmissao                 539850 non-null  object \n",
            " 9   vlrLiquido                 555500 non-null  float64\n",
            " 10  numMes                     555500 non-null  int64  \n",
            " 11  numAno                     555500 non-null  int64  \n",
            " 12  txtPassageiro              129493 non-null  object \n",
            " 13  nuDeputadoId               555500 non-null  int64  \n",
            " 14  ideDocumento               555500 non-null  int64  \n",
            " 15  urlDocumento               349639 non-null  object \n",
            "dtypes: float64(2), int64(4), object(10)\n",
            "memory usage: 72.0+ MB\n"
          ]
        }
      ]
    },
    {
      "cell_type": "markdown",
      "source": [
        "###1.2.6. Corrigindo o formato da data:"
      ],
      "metadata": {
        "id": "VzvoklMTWpOg"
      }
    },
    {
      "cell_type": "code",
      "source": [
        "despesas_selecionadas['datEmissao'] = pd.to_datetime(despesas_selecionadas['datEmissao'], format = '%Y/%m/%d')"
      ],
      "metadata": {
        "id": "ns6Vi36GTFWS"
      },
      "execution_count": 68,
      "outputs": []
    },
    {
      "cell_type": "markdown",
      "source": [
        "###1.2.7. Exibindo a contagem de dados:"
      ],
      "metadata": {
        "id": "ABtCU19uWq86"
      }
    },
    {
      "cell_type": "code",
      "source": [
        "despesas_selecionadas.count()"
      ],
      "metadata": {
        "colab": {
          "base_uri": "https://localhost:8080/"
        },
        "id": "CisDDK5nWrWZ",
        "outputId": "839ebc46-1c2e-4c41-f1e4-44d7dcafb2c7"
      },
      "execution_count": 69,
      "outputs": [
        {
          "output_type": "execute_result",
          "data": {
            "text/plain": [
              "txNomeParlamentar            555500\n",
              "ideCadastro                  553759\n",
              "sgUF                         553759\n",
              "sgPartido                    553759\n",
              "txtDescricao                 555500\n",
              "txtDescricaoEspecificacao    136177\n",
              "txtFornecedor                555467\n",
              "txtCNPJCPF                   531710\n",
              "datEmissao                   539850\n",
              "vlrLiquido                   555500\n",
              "numMes                       555500\n",
              "numAno                       555500\n",
              "txtPassageiro                129493\n",
              "nuDeputadoId                 555500\n",
              "ideDocumento                 555500\n",
              "urlDocumento                 349639\n",
              "dtype: int64"
            ]
          },
          "metadata": {},
          "execution_count": 69
        }
      ]
    },
    {
      "cell_type": "markdown",
      "source": [
        "###1.2.8 Criando o DataFrame do Estado de MS:"
      ],
      "metadata": {
        "id": "RZ_1_xu03cwi"
      }
    },
    {
      "cell_type": "code",
      "source": [
        "despesas_ms = despesas_selecionadas.loc[despesas_selecionadas['sgUF']=='MS']"
      ],
      "metadata": {
        "id": "mLU1b7St3dH8"
      },
      "execution_count": 70,
      "outputs": []
    },
    {
      "cell_type": "markdown",
      "source": [
        "###1.2.9. Criando o DataFrame das Lideranças Partidárias:"
      ],
      "metadata": {
        "id": "FbbIXUG8rOUW"
      }
    },
    {
      "cell_type": "code",
      "source": [
        "liderancas_partidarias = despesas_selecionadas[despesas_selecionadas['sgUF'].isnull()]"
      ],
      "metadata": {
        "id": "tqd3jJd4rO7S"
      },
      "execution_count": 71,
      "outputs": []
    },
    {
      "cell_type": "markdown",
      "source": [
        "###1.2.10. Renomeando colunas:"
      ],
      "metadata": {
        "id": "_w9Hgrdpswf6"
      }
    },
    {
      "cell_type": "code",
      "source": [
        "despesas_ms_renomeado = despesas_ms.rename(columns={'txNomeParlamentar':'Nome-Parlamentar', 'ideCadastro':'ID-Parlamentar', 'sgUF':'Estado', 'sgPartido':'Partido', 'txtDescricao':'Despesa-Descrição', 'txtDescricaoEspecificacao':'Despesa-Especificação', 'txtFornecedor':'Nome-Fornecedor', 'txtCNPJCPF':'CNPJ/CPF-Fornecedor', 'datEmissao':'Emissão-NF', 'vlrLiquido':'Valor Liquido-NF', 'numMes':'Mês', 'numAno':'Ano', 'txtPassageiro':'Passageiro', 'nuDeputadoId':'ID-Parlamentar-Compra', 'ideDocumento':'Numero-NF', 'urlDocumento':'URL-NF'})"
      ],
      "metadata": {
        "id": "4z50eCg0sxCf"
      },
      "execution_count": 72,
      "outputs": []
    },
    {
      "cell_type": "code",
      "source": [
        "liderancas_partidarias_renomeado = liderancas_partidarias.rename(columns={'txNomeParlamentar':'Nome-Parlamentar', 'ideCadastro':'ID-Parlamentar', 'sgUF':'Estado', 'sgPartido':'Partido', 'txtDescricao':'Despesa-Descrição', 'txtDescricaoEspecificacao':'Despesa-Especificação', 'txtFornecedor':'Nome-Fornecedor', 'txtCNPJCPF':'CNPJ/CPF-Fornecedor', 'datEmissao':'Emissão-NF', 'vlrLiquido':'Valor Liquido-NF', 'numMes':'Mês', 'numAno':'Ano', 'txtPassageiro':'Passageiro', 'nuDeputadoId':'ID-Parlamentar-Compra', 'ideDocumento':'Numero-NF', 'urlDocumento':'URL-NF'})"
      ],
      "metadata": {
        "id": "HKxMe_34Z3DV"
      },
      "execution_count": 73,
      "outputs": []
    },
    {
      "cell_type": "markdown",
      "source": [
        "###1.2.11. Visualização dos DataFrames para consultas:"
      ],
      "metadata": {
        "id": "89J1DW-PWsDm"
      }
    },
    {
      "cell_type": "code",
      "source": [
        "despesas_ms_renomeado.info()"
      ],
      "metadata": {
        "colab": {
          "base_uri": "https://localhost:8080/"
        },
        "id": "9GBXIcXBRxfN",
        "outputId": "dad0bd3c-d10e-409d-fcdd-f6888f7c752d"
      },
      "execution_count": 74,
      "outputs": [
        {
          "output_type": "stream",
          "name": "stdout",
          "text": [
            "<class 'pandas.core.frame.DataFrame'>\n",
            "Int64Index: 7970 entries, 29077 to 553678\n",
            "Data columns (total 16 columns):\n",
            " #   Column                 Non-Null Count  Dtype         \n",
            "---  ------                 --------------  -----         \n",
            " 0   Nome-Parlamentar       7970 non-null   object        \n",
            " 1   ID-Parlamentar         7970 non-null   float64       \n",
            " 2   Estado                 7970 non-null   object        \n",
            " 3   Partido                7970 non-null   object        \n",
            " 4   Despesa-Descrição      7970 non-null   object        \n",
            " 5   Despesa-Especificação  2519 non-null   object        \n",
            " 6   Nome-Fornecedor        7970 non-null   object        \n",
            " 7   CNPJ/CPF-Fornecedor    7712 non-null   object        \n",
            " 8   Emissão-NF             7724 non-null   datetime64[ns]\n",
            " 9   Valor Liquido-NF       7970 non-null   float64       \n",
            " 10  Mês                    7970 non-null   int64         \n",
            " 11  Ano                    7970 non-null   int64         \n",
            " 12  Passageiro             1562 non-null   object        \n",
            " 13  ID-Parlamentar-Compra  7970 non-null   int64         \n",
            " 14  Numero-NF              7970 non-null   int64         \n",
            " 15  URL-NF                 5333 non-null   object        \n",
            "dtypes: datetime64[ns](1), float64(2), int64(4), object(9)\n",
            "memory usage: 1.0+ MB\n"
          ]
        }
      ]
    },
    {
      "cell_type": "code",
      "source": [
        "despesas_ms_renomeado.columns.tolist()"
      ],
      "metadata": {
        "colab": {
          "base_uri": "https://localhost:8080/"
        },
        "id": "OWMppD0nRzKZ",
        "outputId": "ba828473-f9e8-44db-a43d-374392e31eee"
      },
      "execution_count": 75,
      "outputs": [
        {
          "output_type": "execute_result",
          "data": {
            "text/plain": [
              "['Nome-Parlamentar',\n",
              " 'ID-Parlamentar',\n",
              " 'Estado',\n",
              " 'Partido',\n",
              " 'Despesa-Descrição',\n",
              " 'Despesa-Especificação',\n",
              " 'Nome-Fornecedor',\n",
              " 'CNPJ/CPF-Fornecedor',\n",
              " 'Emissão-NF',\n",
              " 'Valor Liquido-NF',\n",
              " 'Mês',\n",
              " 'Ano',\n",
              " 'Passageiro',\n",
              " 'ID-Parlamentar-Compra',\n",
              " 'Numero-NF',\n",
              " 'URL-NF']"
            ]
          },
          "metadata": {},
          "execution_count": 75
        }
      ]
    },
    {
      "cell_type": "code",
      "source": [
        "liderancas_partidarias_renomeado.info()"
      ],
      "metadata": {
        "id": "AZHJDL4fuy5h",
        "outputId": "cd04cb16-0556-4d2f-a5e1-f89dec7b1c4f",
        "colab": {
          "base_uri": "https://localhost:8080/"
        }
      },
      "execution_count": 76,
      "outputs": [
        {
          "output_type": "stream",
          "name": "stdout",
          "text": [
            "<class 'pandas.core.frame.DataFrame'>\n",
            "Int64Index: 1741 entries, 0 to 450338\n",
            "Data columns (total 16 columns):\n",
            " #   Column                 Non-Null Count  Dtype         \n",
            "---  ------                 --------------  -----         \n",
            " 0   Nome-Parlamentar       1741 non-null   object        \n",
            " 1   ID-Parlamentar         0 non-null      float64       \n",
            " 2   Estado                 0 non-null      object        \n",
            " 3   Partido                0 non-null      object        \n",
            " 4   Despesa-Descrição      1741 non-null   object        \n",
            " 5   Despesa-Especificação  151 non-null    object        \n",
            " 6   Nome-Fornecedor        1741 non-null   object        \n",
            " 7   CNPJ/CPF-Fornecedor    1741 non-null   object        \n",
            " 8   Emissão-NF             1741 non-null   datetime64[ns]\n",
            " 9   Valor Liquido-NF       1741 non-null   float64       \n",
            " 10  Mês                    1741 non-null   int64         \n",
            " 11  Ano                    1741 non-null   int64         \n",
            " 12  Passageiro             41 non-null     object        \n",
            " 13  ID-Parlamentar-Compra  1741 non-null   int64         \n",
            " 14  Numero-NF              1741 non-null   int64         \n",
            " 15  URL-NF                 1671 non-null   object        \n",
            "dtypes: datetime64[ns](1), float64(2), int64(4), object(9)\n",
            "memory usage: 231.2+ KB\n"
          ]
        }
      ]
    },
    {
      "cell_type": "code",
      "source": [
        "liderancas_partidarias_renomeado.columns.tolist()"
      ],
      "metadata": {
        "id": "mPQLLbkIuyxW",
        "outputId": "d9208e1f-a256-4c42-dc0a-1a6c455270f6",
        "colab": {
          "base_uri": "https://localhost:8080/"
        }
      },
      "execution_count": 77,
      "outputs": [
        {
          "output_type": "execute_result",
          "data": {
            "text/plain": [
              "['Nome-Parlamentar',\n",
              " 'ID-Parlamentar',\n",
              " 'Estado',\n",
              " 'Partido',\n",
              " 'Despesa-Descrição',\n",
              " 'Despesa-Especificação',\n",
              " 'Nome-Fornecedor',\n",
              " 'CNPJ/CPF-Fornecedor',\n",
              " 'Emissão-NF',\n",
              " 'Valor Liquido-NF',\n",
              " 'Mês',\n",
              " 'Ano',\n",
              " 'Passageiro',\n",
              " 'ID-Parlamentar-Compra',\n",
              " 'Numero-NF',\n",
              " 'URL-NF']"
            ]
          },
          "metadata": {},
          "execution_count": 77
        }
      ]
    },
    {
      "cell_type": "markdown",
      "source": [
        "#**2. Exportando os DataFrames \"depesas_ms\" e \"liderancas_partidarias\" para arquivos .xlsx:**"
      ],
      "metadata": {
        "id": "lXup_Y_P5XMI"
      }
    },
    {
      "cell_type": "markdown",
      "source": [
        "###**Aqui serão gerados dois arquivos .xlsx a serem utilizado no Power BI:**"
      ],
      "metadata": {
        "id": "gDyxHPs8ROsC"
      }
    },
    {
      "cell_type": "code",
      "source": [
        "with pd.ExcelWriter('despesas_ms.xlsx') as writer:  \n",
        "    despesas_ms_renomeado.to_excel(writer, sheet_name='MS')"
      ],
      "metadata": {
        "id": "Av41hR-z5kVh"
      },
      "execution_count": 78,
      "outputs": []
    },
    {
      "cell_type": "code",
      "source": [
        "with pd.ExcelWriter('liderancas_partidarias.xlsx') as writer:  \n",
        "    liderancas_partidarias_renomeado.to_excel(writer, sheet_name='MS')"
      ],
      "metadata": {
        "id": "7qMEhiJwvgnX"
      },
      "execution_count": 79,
      "outputs": []
    },
    {
      "cell_type": "markdown",
      "source": [
        "#**3. Análise dos dados:**"
      ],
      "metadata": {
        "id": "thbBCRBbZuMw"
      }
    },
    {
      "cell_type": "markdown",
      "source": [
        "###2.1. - Qual o maior valor que um parlamentar gastou com um único fornecedor? Este fornecedor em específico possui alguma ligação com o parlamentar identificado?"
      ],
      "metadata": {
        "id": "BpmyubSPmFoX"
      }
    },
    {
      "cell_type": "markdown",
      "source": [
        "###2.2. - Qual o maior valor gasto em uma única despesa de alimentação? Existe alguma explicação plausível?"
      ],
      "metadata": {
        "id": "VLUpqGitmMZv"
      }
    },
    {
      "cell_type": "markdown",
      "source": [
        "###2.3. - Qual o percentual de notas fiscais indisponíveis para consulta? Nesta relação está inclusa alguma categoria que possa vir a configurar fraude?"
      ],
      "metadata": {
        "id": "R3InxVsNmS5F"
      }
    },
    {
      "cell_type": "markdown",
      "source": [
        "###2.4 - De possíveis fraudes por falta de prestação de contas, qual o top 5 parlamentares?"
      ],
      "metadata": {
        "id": "q_h6rwsxmY-1"
      }
    },
    {
      "cell_type": "markdown",
      "source": [
        "###2.5 - Qual o parlamentar mais caro para o governo se considerado suas despesas pessoais e as despesas a partir de lideranças partidárias?"
      ],
      "metadata": {
        "id": "hLSJ7wB0mfjx"
      }
    },
    {
      "cell_type": "markdown",
      "source": [
        "###2.6 - Existe alguma despesa duplicada entre parlamentar x liderança partidária?"
      ],
      "metadata": {
        "id": "Cgtnj_JnmkQa"
      }
    },
    {
      "cell_type": "markdown",
      "source": [
        ""
      ],
      "metadata": {
        "id": "JSTimWgypiIg"
      }
    }
  ]
}
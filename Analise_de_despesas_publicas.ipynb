{
  "nbformat": 4,
  "nbformat_minor": 0,
  "metadata": {
    "colab": {
      "name": "Analise_de_despesas_publicas.ipynb",
      "provenance": [],
      "collapsed_sections": [],
      "authorship_tag": "ABX9TyMY+15YulIoH3bL/cODBzkO",
      "include_colab_link": true
    },
    "kernelspec": {
      "name": "python3",
      "display_name": "Python 3"
    },
    "language_info": {
      "name": "python"
    }
  },
  "cells": [
    {
      "cell_type": "markdown",
      "metadata": {
        "id": "view-in-github",
        "colab_type": "text"
      },
      "source": [
        "<a href=\"https://colab.research.google.com/github/GKCSV/Resilia_ProjetoFinal_M6/blob/GK/Analise_de_despesas_publicas.ipynb\" target=\"_parent\"><img src=\"https://colab.research.google.com/assets/colab-badge.svg\" alt=\"Open In Colab\"/></a>"
      ]
    },
    {
      "cell_type": "markdown",
      "source": [
        "#**ANÁLISE DE DESPESAS PÚBLICAS GERADAS POR DEPUTADOS NOS ANOS DE 2019, 2020 E 2021**"
      ],
      "metadata": {
        "id": "oBdmpqfcNXoS"
      }
    },
    {
      "cell_type": "markdown",
      "source": [
        "#**1. Preparação dos dados para consultas:**"
      ],
      "metadata": {
        "id": "JLHf6GvUZBoO"
      }
    },
    {
      "cell_type": "markdown",
      "source": [
        "##1.1. Inicialização do ambiente e importação dos dados:"
      ],
      "metadata": {
        "id": "ewuhg9wxNX5D"
      }
    },
    {
      "cell_type": "code",
      "execution_count": 56,
      "metadata": {
        "id": "dHEH7rrcM4uD"
      },
      "outputs": [],
      "source": [
        "import pandas as pd\n",
        "import numpy as np\n",
        "import seaborn as sns\n",
        "import matplotlib.pyplot as plt\n",
        "import plotly.graph_objects as go\n",
        "from matplotlib.ticker import StrMethodFormatter\n",
        "from sklearn.preprocessing import MinMaxScaler"
      ]
    },
    {
      "cell_type": "code",
      "source": [
        "despesas2019 = pd.read_csv('https://raw.githubusercontent.com/GKCSV/Resilia_ProjetoFinal_M6/main/Ano-2019.csv', sep = ';')\n",
        "despesas2020 = pd.read_csv('https://raw.githubusercontent.com/GKCSV/Resilia_ProjetoFinal_M6/main/Ano-2020.csv', sep = ';')\n",
        "despesas2021 = pd.read_csv('https://raw.githubusercontent.com/GKCSV/Resilia_ProjetoFinal_M6/main/Ano-2021.csv', sep = ';')"
      ],
      "metadata": {
        "id": "IZCzr9yHRYeD"
      },
      "execution_count": 57,
      "outputs": []
    },
    {
      "cell_type": "markdown",
      "source": [
        "##1.2. Formatação do dataset:"
      ],
      "metadata": {
        "id": "8TcLFWvkSQiE"
      }
    },
    {
      "cell_type": "markdown",
      "source": [
        "###1.2.1. Mesclagem dos DataFrames para um único:"
      ],
      "metadata": {
        "id": "nvf7scUQSwH3"
      }
    },
    {
      "cell_type": "code",
      "source": [
        "despesas1920 = pd.merge(despesas2019, despesas2020, how='outer')\n",
        "despesas_gerais = pd.merge(despesas1920, despesas2021, how='outer')"
      ],
      "metadata": {
        "id": "cTP16CACSPIa"
      },
      "execution_count": 58,
      "outputs": []
    },
    {
      "cell_type": "markdown",
      "source": [
        "###1.2.2. Visualizando as colunas presentes:"
      ],
      "metadata": {
        "id": "QPb_kyT-XMrl"
      }
    },
    {
      "cell_type": "code",
      "source": [
        "despesas_gerais.columns.tolist()"
      ],
      "metadata": {
        "colab": {
          "base_uri": "https://localhost:8080/"
        },
        "id": "3QeM7Mn8Qec8",
        "outputId": "55cac703-3ca1-41c2-e62d-b86d772fced9"
      },
      "execution_count": 59,
      "outputs": [
        {
          "output_type": "execute_result",
          "data": {
            "text/plain": [
              "['txNomeParlamentar',\n",
              " 'cpf',\n",
              " 'ideCadastro',\n",
              " 'nuCarteiraParlamentar',\n",
              " 'nuLegislatura',\n",
              " 'sgUF',\n",
              " 'sgPartido',\n",
              " 'codLegislatura',\n",
              " 'numSubCota',\n",
              " 'txtDescricao',\n",
              " 'numEspecificacaoSubCota',\n",
              " 'txtDescricaoEspecificacao',\n",
              " 'txtFornecedor',\n",
              " 'txtCNPJCPF',\n",
              " 'txtNumero',\n",
              " 'indTipoDocumento',\n",
              " 'datEmissao',\n",
              " 'vlrDocumento',\n",
              " 'vlrGlosa',\n",
              " 'vlrLiquido',\n",
              " 'numMes',\n",
              " 'numAno',\n",
              " 'numParcela',\n",
              " 'txtPassageiro',\n",
              " 'txtTrecho',\n",
              " 'numLote',\n",
              " 'numRessarcimento',\n",
              " 'vlrRestituicao',\n",
              " 'nuDeputadoId',\n",
              " 'ideDocumento',\n",
              " 'urlDocumento']"
            ]
          },
          "metadata": {},
          "execution_count": 59
        }
      ]
    },
    {
      "cell_type": "markdown",
      "source": [
        "###1.2.3 Exclusão de colunas não-utilizadas através do comando .drop():\n",
        "###Serão removidas as colunas:\n",
        "\n",
        "'cpf'\n",
        "\n",
        "'nuCarteiraParlamentar'\n",
        "\n",
        "'nuLegislatura'\n",
        "\n",
        "'codLegislatura'\n",
        "\n",
        "'numSubCota'\n",
        "\n",
        "'numEspecificacaoSubCota'\n",
        "\n",
        "'txtNumero'\n",
        "\n",
        "'indTipoDocumento'\n",
        "\n",
        "'numParcela'\n",
        "\n",
        "'txtTrecho'\n",
        "\n",
        "'numLote'\n",
        "\n",
        "'numRessarcimento'"
      ],
      "metadata": {
        "id": "NwBVY5-YUUcB"
      }
    },
    {
      "cell_type": "code",
      "source": [
        "excluir_colunas = despesas_gerais.drop(columns=['cpf', 'nuCarteiraParlamentar', 'nuLegislatura', 'codLegislatura', 'numSubCota', 'numEspecificacaoSubCota', 'txtNumero', 'indTipoDocumento', 'vlrDocumento', 'vlrGlosa', 'numParcela', 'txtTrecho', 'numLote', 'numRessarcimento', 'vlrRestituicao'])\n"
      ],
      "metadata": {
        "id": "QJBHvMgaUdSP"
      },
      "execution_count": 60,
      "outputs": []
    },
    {
      "cell_type": "markdown",
      "source": [
        "###1.2.4. Criando cópia do dataset para atualização de nomeação:"
      ],
      "metadata": {
        "id": "cmd44qR5WDMz"
      }
    },
    {
      "cell_type": "code",
      "source": [
        "despesas_selecionadas = excluir_colunas.copy()"
      ],
      "metadata": {
        "id": "XsTUoVLtV1jh"
      },
      "execution_count": 61,
      "outputs": []
    },
    {
      "cell_type": "markdown",
      "source": [
        "###1.2.5 Visualizando os tipos de dados presentes nas colunas:"
      ],
      "metadata": {
        "id": "o4ph5xnbWc6n"
      }
    },
    {
      "cell_type": "code",
      "source": [
        "despesas_selecionadas.info()"
      ],
      "metadata": {
        "colab": {
          "base_uri": "https://localhost:8080/"
        },
        "id": "8_XxDJOFWj_H",
        "outputId": "49bc270d-139a-4593-ce21-9de68a3024c1"
      },
      "execution_count": 62,
      "outputs": [
        {
          "output_type": "stream",
          "name": "stdout",
          "text": [
            "<class 'pandas.core.frame.DataFrame'>\n",
            "Int64Index: 555500 entries, 0 to 555499\n",
            "Data columns (total 16 columns):\n",
            " #   Column                     Non-Null Count   Dtype  \n",
            "---  ------                     --------------   -----  \n",
            " 0   txNomeParlamentar          555500 non-null  object \n",
            " 1   ideCadastro                553759 non-null  float64\n",
            " 2   sgUF                       553759 non-null  object \n",
            " 3   sgPartido                  553759 non-null  object \n",
            " 4   txtDescricao               555500 non-null  object \n",
            " 5   txtDescricaoEspecificacao  136177 non-null  object \n",
            " 6   txtFornecedor              555467 non-null  object \n",
            " 7   txtCNPJCPF                 531710 non-null  object \n",
            " 8   datEmissao                 539850 non-null  object \n",
            " 9   vlrLiquido                 555500 non-null  float64\n",
            " 10  numMes                     555500 non-null  int64  \n",
            " 11  numAno                     555500 non-null  int64  \n",
            " 12  txtPassageiro              129493 non-null  object \n",
            " 13  nuDeputadoId               555500 non-null  int64  \n",
            " 14  ideDocumento               555500 non-null  int64  \n",
            " 15  urlDocumento               349639 non-null  object \n",
            "dtypes: float64(2), int64(4), object(10)\n",
            "memory usage: 72.0+ MB\n"
          ]
        }
      ]
    },
    {
      "cell_type": "markdown",
      "source": [
        "###1.2.6. Corrigindo o formato da data:"
      ],
      "metadata": {
        "id": "VzvoklMTWpOg"
      }
    },
    {
      "cell_type": "code",
      "source": [
        "despesas_selecionadas['datEmissao'] = pd.to_datetime(despesas_selecionadas['datEmissao'], format = '%Y/%m/%d')"
      ],
      "metadata": {
        "id": "ns6Vi36GTFWS"
      },
      "execution_count": 63,
      "outputs": []
    },
    {
      "cell_type": "markdown",
      "source": [
        "###1.2.7. Exibindo a contagem de dados:"
      ],
      "metadata": {
        "id": "ABtCU19uWq86"
      }
    },
    {
      "cell_type": "code",
      "source": [
        "despesas_selecionadas.count()"
      ],
      "metadata": {
        "colab": {
          "base_uri": "https://localhost:8080/"
        },
        "id": "CisDDK5nWrWZ",
        "outputId": "6c5731bb-c069-4b26-e1f9-e4f71461cf6d"
      },
      "execution_count": 64,
      "outputs": [
        {
          "output_type": "execute_result",
          "data": {
            "text/plain": [
              "txNomeParlamentar            555500\n",
              "ideCadastro                  553759\n",
              "sgUF                         553759\n",
              "sgPartido                    553759\n",
              "txtDescricao                 555500\n",
              "txtDescricaoEspecificacao    136177\n",
              "txtFornecedor                555467\n",
              "txtCNPJCPF                   531710\n",
              "datEmissao                   539850\n",
              "vlrLiquido                   555500\n",
              "numMes                       555500\n",
              "numAno                       555500\n",
              "txtPassageiro                129493\n",
              "nuDeputadoId                 555500\n",
              "ideDocumento                 555500\n",
              "urlDocumento                 349639\n",
              "dtype: int64"
            ]
          },
          "metadata": {},
          "execution_count": 64
        }
      ]
    },
    {
      "cell_type": "markdown",
      "source": [
        "###1.2.8 Criando o DataFrame do Estado de MS:"
      ],
      "metadata": {
        "id": "RZ_1_xu03cwi"
      }
    },
    {
      "cell_type": "code",
      "source": [
        "despesas_ms = despesas_selecionadas.loc[despesas_selecionadas['sgUF']=='MS']"
      ],
      "metadata": {
        "id": "mLU1b7St3dH8"
      },
      "execution_count": 65,
      "outputs": []
    },
    {
      "cell_type": "markdown",
      "source": [
        "###1.2.9. Criando o DataFrame das Lideranças Partidárias:"
      ],
      "metadata": {
        "id": "FbbIXUG8rOUW"
      }
    },
    {
      "cell_type": "code",
      "source": [
        "liderancas_partidarias = despesas_selecionadas.head(905)"
      ],
      "metadata": {
        "id": "tqd3jJd4rO7S"
      },
      "execution_count": 66,
      "outputs": []
    },
    {
      "cell_type": "markdown",
      "source": [
        "###1.2.10. Renomeando colunas:"
      ],
      "metadata": {
        "id": "_w9Hgrdpswf6"
      }
    },
    {
      "cell_type": "code",
      "source": [
        "despesas_ms.rename(columns={'txNomeParlamentar':'Nome-Parlamentar', 'ideCadastro':'ID-Parlamentar', 'sgUF':'Estado', 'sgPartido':'Partido', 'txtDescricao':'Despesa-Descrição', 'txtDescricaoEspecificacao':'Despesa-Especificação', 'txtFornecedor':'Nome-Fornecedor', 'txtCNPJCPF':'CNPJ/CPF-Fornecedor', 'datEmissao':'Emissão-NF', 'vlrLiquido':'Valor Liquido-NF', 'numMes':'Mês', 'numAno':'Ano', 'txtPassageiro':'Passageiro', 'nuDeputadoId':'ID-Parlamentar-Compra', 'ideDocumento':'Numero-NF', 'urlDocumento':'URL-NF'})"
      ],
      "metadata": {
        "colab": {
          "base_uri": "https://localhost:8080/",
          "height": 763
        },
        "id": "4z50eCg0sxCf",
        "outputId": "1f9455bb-5fbe-40f1-87b4-9908747821bf"
      },
      "execution_count": 67,
      "outputs": [
        {
          "output_type": "execute_result",
          "data": {
            "text/plain": [
              "       Nome-Parlamentar  ID-Parlamentar Estado Partido  \\\n",
              "29077   Geraldo Resende         74374.0     MS    PSDB   \n",
              "29078     Vander Loubet         74376.0     MS      PT   \n",
              "29079     Vander Loubet         74376.0     MS      PT   \n",
              "29080     Vander Loubet         74376.0     MS      PT   \n",
              "29081     Vander Loubet         74376.0     MS      PT   \n",
              "...                 ...             ...    ...     ...   \n",
              "553674      Bia Cavassa        207176.0     MS    PSDB   \n",
              "553675      Bia Cavassa        207176.0     MS    PSDB   \n",
              "553676      Bia Cavassa        207176.0     MS    PSDB   \n",
              "553677      Bia Cavassa        207176.0     MS    PSDB   \n",
              "553678      Bia Cavassa        207176.0     MS    PSDB   \n",
              "\n",
              "                                        Despesa-Descrição  \\\n",
              "29077                                           TELEFONIA   \n",
              "29078   MANUTENÇÃO DE ESCRITÓRIO DE APOIO À ATIVIDADE ...   \n",
              "29079   MANUTENÇÃO DE ESCRITÓRIO DE APOIO À ATIVIDADE ...   \n",
              "29080   MANUTENÇÃO DE ESCRITÓRIO DE APOIO À ATIVIDADE ...   \n",
              "29081                       COMBUSTÍVEIS E LUBRIFICANTES.   \n",
              "...                                                   ...   \n",
              "553674                               PASSAGEM AÉREA - RPA   \n",
              "553675                               PASSAGEM AÉREA - RPA   \n",
              "553676                               PASSAGEM AÉREA - RPA   \n",
              "553677                               PASSAGEM AÉREA - RPA   \n",
              "553678                               PASSAGEM AÉREA - RPA   \n",
              "\n",
              "       Despesa-Especificação                          Nome-Fornecedor  \\\n",
              "29077                    NaN                                    RAMAL   \n",
              "29078                    NaN                         aguas guarirobas   \n",
              "29079                    NaN                            ENERGISA   MS   \n",
              "29080                    NaN                  ronaldo guedine ribeiro   \n",
              "29081   Veículos Automotores  ALPHAVILE COMERCIO DE COMBUSTIVEIS LTDA   \n",
              "...                      ...                                      ...   \n",
              "553674                   NaN                          Cia Aérea - TAM   \n",
              "553675                   NaN                          Cia Aérea - TAM   \n",
              "553676                   NaN                          Cia Aérea - TAM   \n",
              "553677                   NaN                          Cia Aérea - TAM   \n",
              "553678                   NaN                          Cia Aérea - TAM   \n",
              "\n",
              "       CNPJ/CPF-Fornecedor Emissão-NF  Valor Liquido-NF  Mês   Ano  \\\n",
              "29077   000.000.000/0000-6        NaT              1.40    7  2019   \n",
              "29078   040.895.700/0015-0 2019-01-14             77.42    1  2019   \n",
              "29079   154.138.260/0015-0 2019-01-11            249.98    1  2019   \n",
              "29080    120.251.668/85  - 2019-02-07           2150.00    1  2019   \n",
              "29081   103.396.620/0014-4 2019-01-06            100.00    1  2019   \n",
              "...                    ...        ...               ...  ...   ...   \n",
              "553674  020.128.620/0016-0 2021-02-04           1618.57    2  2021   \n",
              "553675  020.128.620/0016-0 2021-02-05           1085.47    2  2021   \n",
              "553676  020.128.620/0016-0 2021-02-10           2337.33    2  2021   \n",
              "553677  020.128.620/0016-0 2021-04-30            131.47    4  2021   \n",
              "553678  020.128.620/0016-0 2021-05-03           1230.23    5  2021   \n",
              "\n",
              "         Passageiro  ID-Parlamentar-Compra  Numero-NF  \\\n",
              "29077           NaN                   1649          0   \n",
              "29078           NaN                   1697    6759317   \n",
              "29079           NaN                   1697    6759322   \n",
              "29080           NaN                   1697    6760118   \n",
              "29081           NaN                   1697    6759290   \n",
              "...             ...                    ...        ...   \n",
              "553674  Bia Cavassa                   3445    1745718   \n",
              "553675  Bia Cavassa                   3445    1745744   \n",
              "553676  Bia Cavassa                   3445    1745819   \n",
              "553677  Bia Cavassa                   3445    1749934   \n",
              "553678  Bia Cavassa                   3445    1749950   \n",
              "\n",
              "                                                   URL-NF  \n",
              "29077                                                 NaN  \n",
              "29078   https://www.camara.leg.br/cota-parlamentar/doc...  \n",
              "29079   https://www.camara.leg.br/cota-parlamentar/doc...  \n",
              "29080   https://www.camara.leg.br/cota-parlamentar/doc...  \n",
              "29081   https://www.camara.leg.br/cota-parlamentar/doc...  \n",
              "...                                                   ...  \n",
              "553674                                                NaN  \n",
              "553675                                                NaN  \n",
              "553676                                                NaN  \n",
              "553677                                                NaN  \n",
              "553678                                                NaN  \n",
              "\n",
              "[7970 rows x 16 columns]"
            ],
            "text/html": [
              "\n",
              "  <div id=\"df-bcb647d9-f424-434a-a7e3-7039edbcd29a\">\n",
              "    <div class=\"colab-df-container\">\n",
              "      <div>\n",
              "<style scoped>\n",
              "    .dataframe tbody tr th:only-of-type {\n",
              "        vertical-align: middle;\n",
              "    }\n",
              "\n",
              "    .dataframe tbody tr th {\n",
              "        vertical-align: top;\n",
              "    }\n",
              "\n",
              "    .dataframe thead th {\n",
              "        text-align: right;\n",
              "    }\n",
              "</style>\n",
              "<table border=\"1\" class=\"dataframe\">\n",
              "  <thead>\n",
              "    <tr style=\"text-align: right;\">\n",
              "      <th></th>\n",
              "      <th>Nome-Parlamentar</th>\n",
              "      <th>ID-Parlamentar</th>\n",
              "      <th>Estado</th>\n",
              "      <th>Partido</th>\n",
              "      <th>Despesa-Descrição</th>\n",
              "      <th>Despesa-Especificação</th>\n",
              "      <th>Nome-Fornecedor</th>\n",
              "      <th>CNPJ/CPF-Fornecedor</th>\n",
              "      <th>Emissão-NF</th>\n",
              "      <th>Valor Liquido-NF</th>\n",
              "      <th>Mês</th>\n",
              "      <th>Ano</th>\n",
              "      <th>Passageiro</th>\n",
              "      <th>ID-Parlamentar-Compra</th>\n",
              "      <th>Numero-NF</th>\n",
              "      <th>URL-NF</th>\n",
              "    </tr>\n",
              "  </thead>\n",
              "  <tbody>\n",
              "    <tr>\n",
              "      <th>29077</th>\n",
              "      <td>Geraldo Resende</td>\n",
              "      <td>74374.0</td>\n",
              "      <td>MS</td>\n",
              "      <td>PSDB</td>\n",
              "      <td>TELEFONIA</td>\n",
              "      <td>NaN</td>\n",
              "      <td>RAMAL</td>\n",
              "      <td>000.000.000/0000-6</td>\n",
              "      <td>NaT</td>\n",
              "      <td>1.40</td>\n",
              "      <td>7</td>\n",
              "      <td>2019</td>\n",
              "      <td>NaN</td>\n",
              "      <td>1649</td>\n",
              "      <td>0</td>\n",
              "      <td>NaN</td>\n",
              "    </tr>\n",
              "    <tr>\n",
              "      <th>29078</th>\n",
              "      <td>Vander Loubet</td>\n",
              "      <td>74376.0</td>\n",
              "      <td>MS</td>\n",
              "      <td>PT</td>\n",
              "      <td>MANUTENÇÃO DE ESCRITÓRIO DE APOIO À ATIVIDADE ...</td>\n",
              "      <td>NaN</td>\n",
              "      <td>aguas guarirobas</td>\n",
              "      <td>040.895.700/0015-0</td>\n",
              "      <td>2019-01-14</td>\n",
              "      <td>77.42</td>\n",
              "      <td>1</td>\n",
              "      <td>2019</td>\n",
              "      <td>NaN</td>\n",
              "      <td>1697</td>\n",
              "      <td>6759317</td>\n",
              "      <td>https://www.camara.leg.br/cota-parlamentar/doc...</td>\n",
              "    </tr>\n",
              "    <tr>\n",
              "      <th>29079</th>\n",
              "      <td>Vander Loubet</td>\n",
              "      <td>74376.0</td>\n",
              "      <td>MS</td>\n",
              "      <td>PT</td>\n",
              "      <td>MANUTENÇÃO DE ESCRITÓRIO DE APOIO À ATIVIDADE ...</td>\n",
              "      <td>NaN</td>\n",
              "      <td>ENERGISA   MS</td>\n",
              "      <td>154.138.260/0015-0</td>\n",
              "      <td>2019-01-11</td>\n",
              "      <td>249.98</td>\n",
              "      <td>1</td>\n",
              "      <td>2019</td>\n",
              "      <td>NaN</td>\n",
              "      <td>1697</td>\n",
              "      <td>6759322</td>\n",
              "      <td>https://www.camara.leg.br/cota-parlamentar/doc...</td>\n",
              "    </tr>\n",
              "    <tr>\n",
              "      <th>29080</th>\n",
              "      <td>Vander Loubet</td>\n",
              "      <td>74376.0</td>\n",
              "      <td>MS</td>\n",
              "      <td>PT</td>\n",
              "      <td>MANUTENÇÃO DE ESCRITÓRIO DE APOIO À ATIVIDADE ...</td>\n",
              "      <td>NaN</td>\n",
              "      <td>ronaldo guedine ribeiro</td>\n",
              "      <td>120.251.668/85  -</td>\n",
              "      <td>2019-02-07</td>\n",
              "      <td>2150.00</td>\n",
              "      <td>1</td>\n",
              "      <td>2019</td>\n",
              "      <td>NaN</td>\n",
              "      <td>1697</td>\n",
              "      <td>6760118</td>\n",
              "      <td>https://www.camara.leg.br/cota-parlamentar/doc...</td>\n",
              "    </tr>\n",
              "    <tr>\n",
              "      <th>29081</th>\n",
              "      <td>Vander Loubet</td>\n",
              "      <td>74376.0</td>\n",
              "      <td>MS</td>\n",
              "      <td>PT</td>\n",
              "      <td>COMBUSTÍVEIS E LUBRIFICANTES.</td>\n",
              "      <td>Veículos Automotores</td>\n",
              "      <td>ALPHAVILE COMERCIO DE COMBUSTIVEIS LTDA</td>\n",
              "      <td>103.396.620/0014-4</td>\n",
              "      <td>2019-01-06</td>\n",
              "      <td>100.00</td>\n",
              "      <td>1</td>\n",
              "      <td>2019</td>\n",
              "      <td>NaN</td>\n",
              "      <td>1697</td>\n",
              "      <td>6759290</td>\n",
              "      <td>https://www.camara.leg.br/cota-parlamentar/doc...</td>\n",
              "    </tr>\n",
              "    <tr>\n",
              "      <th>...</th>\n",
              "      <td>...</td>\n",
              "      <td>...</td>\n",
              "      <td>...</td>\n",
              "      <td>...</td>\n",
              "      <td>...</td>\n",
              "      <td>...</td>\n",
              "      <td>...</td>\n",
              "      <td>...</td>\n",
              "      <td>...</td>\n",
              "      <td>...</td>\n",
              "      <td>...</td>\n",
              "      <td>...</td>\n",
              "      <td>...</td>\n",
              "      <td>...</td>\n",
              "      <td>...</td>\n",
              "      <td>...</td>\n",
              "    </tr>\n",
              "    <tr>\n",
              "      <th>553674</th>\n",
              "      <td>Bia Cavassa</td>\n",
              "      <td>207176.0</td>\n",
              "      <td>MS</td>\n",
              "      <td>PSDB</td>\n",
              "      <td>PASSAGEM AÉREA - RPA</td>\n",
              "      <td>NaN</td>\n",
              "      <td>Cia Aérea - TAM</td>\n",
              "      <td>020.128.620/0016-0</td>\n",
              "      <td>2021-02-04</td>\n",
              "      <td>1618.57</td>\n",
              "      <td>2</td>\n",
              "      <td>2021</td>\n",
              "      <td>Bia Cavassa</td>\n",
              "      <td>3445</td>\n",
              "      <td>1745718</td>\n",
              "      <td>NaN</td>\n",
              "    </tr>\n",
              "    <tr>\n",
              "      <th>553675</th>\n",
              "      <td>Bia Cavassa</td>\n",
              "      <td>207176.0</td>\n",
              "      <td>MS</td>\n",
              "      <td>PSDB</td>\n",
              "      <td>PASSAGEM AÉREA - RPA</td>\n",
              "      <td>NaN</td>\n",
              "      <td>Cia Aérea - TAM</td>\n",
              "      <td>020.128.620/0016-0</td>\n",
              "      <td>2021-02-05</td>\n",
              "      <td>1085.47</td>\n",
              "      <td>2</td>\n",
              "      <td>2021</td>\n",
              "      <td>Bia Cavassa</td>\n",
              "      <td>3445</td>\n",
              "      <td>1745744</td>\n",
              "      <td>NaN</td>\n",
              "    </tr>\n",
              "    <tr>\n",
              "      <th>553676</th>\n",
              "      <td>Bia Cavassa</td>\n",
              "      <td>207176.0</td>\n",
              "      <td>MS</td>\n",
              "      <td>PSDB</td>\n",
              "      <td>PASSAGEM AÉREA - RPA</td>\n",
              "      <td>NaN</td>\n",
              "      <td>Cia Aérea - TAM</td>\n",
              "      <td>020.128.620/0016-0</td>\n",
              "      <td>2021-02-10</td>\n",
              "      <td>2337.33</td>\n",
              "      <td>2</td>\n",
              "      <td>2021</td>\n",
              "      <td>Bia Cavassa</td>\n",
              "      <td>3445</td>\n",
              "      <td>1745819</td>\n",
              "      <td>NaN</td>\n",
              "    </tr>\n",
              "    <tr>\n",
              "      <th>553677</th>\n",
              "      <td>Bia Cavassa</td>\n",
              "      <td>207176.0</td>\n",
              "      <td>MS</td>\n",
              "      <td>PSDB</td>\n",
              "      <td>PASSAGEM AÉREA - RPA</td>\n",
              "      <td>NaN</td>\n",
              "      <td>Cia Aérea - TAM</td>\n",
              "      <td>020.128.620/0016-0</td>\n",
              "      <td>2021-04-30</td>\n",
              "      <td>131.47</td>\n",
              "      <td>4</td>\n",
              "      <td>2021</td>\n",
              "      <td>Bia Cavassa</td>\n",
              "      <td>3445</td>\n",
              "      <td>1749934</td>\n",
              "      <td>NaN</td>\n",
              "    </tr>\n",
              "    <tr>\n",
              "      <th>553678</th>\n",
              "      <td>Bia Cavassa</td>\n",
              "      <td>207176.0</td>\n",
              "      <td>MS</td>\n",
              "      <td>PSDB</td>\n",
              "      <td>PASSAGEM AÉREA - RPA</td>\n",
              "      <td>NaN</td>\n",
              "      <td>Cia Aérea - TAM</td>\n",
              "      <td>020.128.620/0016-0</td>\n",
              "      <td>2021-05-03</td>\n",
              "      <td>1230.23</td>\n",
              "      <td>5</td>\n",
              "      <td>2021</td>\n",
              "      <td>Bia Cavassa</td>\n",
              "      <td>3445</td>\n",
              "      <td>1749950</td>\n",
              "      <td>NaN</td>\n",
              "    </tr>\n",
              "  </tbody>\n",
              "</table>\n",
              "<p>7970 rows × 16 columns</p>\n",
              "</div>\n",
              "      <button class=\"colab-df-convert\" onclick=\"convertToInteractive('df-bcb647d9-f424-434a-a7e3-7039edbcd29a')\"\n",
              "              title=\"Convert this dataframe to an interactive table.\"\n",
              "              style=\"display:none;\">\n",
              "        \n",
              "  <svg xmlns=\"http://www.w3.org/2000/svg\" height=\"24px\"viewBox=\"0 0 24 24\"\n",
              "       width=\"24px\">\n",
              "    <path d=\"M0 0h24v24H0V0z\" fill=\"none\"/>\n",
              "    <path d=\"M18.56 5.44l.94 2.06.94-2.06 2.06-.94-2.06-.94-.94-2.06-.94 2.06-2.06.94zm-11 1L8.5 8.5l.94-2.06 2.06-.94-2.06-.94L8.5 2.5l-.94 2.06-2.06.94zm10 10l.94 2.06.94-2.06 2.06-.94-2.06-.94-.94-2.06-.94 2.06-2.06.94z\"/><path d=\"M17.41 7.96l-1.37-1.37c-.4-.4-.92-.59-1.43-.59-.52 0-1.04.2-1.43.59L10.3 9.45l-7.72 7.72c-.78.78-.78 2.05 0 2.83L4 21.41c.39.39.9.59 1.41.59.51 0 1.02-.2 1.41-.59l7.78-7.78 2.81-2.81c.8-.78.8-2.07 0-2.86zM5.41 20L4 18.59l7.72-7.72 1.47 1.35L5.41 20z\"/>\n",
              "  </svg>\n",
              "      </button>\n",
              "      \n",
              "  <style>\n",
              "    .colab-df-container {\n",
              "      display:flex;\n",
              "      flex-wrap:wrap;\n",
              "      gap: 12px;\n",
              "    }\n",
              "\n",
              "    .colab-df-convert {\n",
              "      background-color: #E8F0FE;\n",
              "      border: none;\n",
              "      border-radius: 50%;\n",
              "      cursor: pointer;\n",
              "      display: none;\n",
              "      fill: #1967D2;\n",
              "      height: 32px;\n",
              "      padding: 0 0 0 0;\n",
              "      width: 32px;\n",
              "    }\n",
              "\n",
              "    .colab-df-convert:hover {\n",
              "      background-color: #E2EBFA;\n",
              "      box-shadow: 0px 1px 2px rgba(60, 64, 67, 0.3), 0px 1px 3px 1px rgba(60, 64, 67, 0.15);\n",
              "      fill: #174EA6;\n",
              "    }\n",
              "\n",
              "    [theme=dark] .colab-df-convert {\n",
              "      background-color: #3B4455;\n",
              "      fill: #D2E3FC;\n",
              "    }\n",
              "\n",
              "    [theme=dark] .colab-df-convert:hover {\n",
              "      background-color: #434B5C;\n",
              "      box-shadow: 0px 1px 3px 1px rgba(0, 0, 0, 0.15);\n",
              "      filter: drop-shadow(0px 1px 2px rgba(0, 0, 0, 0.3));\n",
              "      fill: #FFFFFF;\n",
              "    }\n",
              "  </style>\n",
              "\n",
              "      <script>\n",
              "        const buttonEl =\n",
              "          document.querySelector('#df-bcb647d9-f424-434a-a7e3-7039edbcd29a button.colab-df-convert');\n",
              "        buttonEl.style.display =\n",
              "          google.colab.kernel.accessAllowed ? 'block' : 'none';\n",
              "\n",
              "        async function convertToInteractive(key) {\n",
              "          const element = document.querySelector('#df-bcb647d9-f424-434a-a7e3-7039edbcd29a');\n",
              "          const dataTable =\n",
              "            await google.colab.kernel.invokeFunction('convertToInteractive',\n",
              "                                                     [key], {});\n",
              "          if (!dataTable) return;\n",
              "\n",
              "          const docLinkHtml = 'Like what you see? Visit the ' +\n",
              "            '<a target=\"_blank\" href=https://colab.research.google.com/notebooks/data_table.ipynb>data table notebook</a>'\n",
              "            + ' to learn more about interactive tables.';\n",
              "          element.innerHTML = '';\n",
              "          dataTable['output_type'] = 'display_data';\n",
              "          await google.colab.output.renderOutput(dataTable, element);\n",
              "          const docLink = document.createElement('div');\n",
              "          docLink.innerHTML = docLinkHtml;\n",
              "          element.appendChild(docLink);\n",
              "        }\n",
              "      </script>\n",
              "    </div>\n",
              "  </div>\n",
              "  "
            ]
          },
          "metadata": {},
          "execution_count": 67
        }
      ]
    },
    {
      "cell_type": "markdown",
      "source": [
        "###1.2.11. Visualização dos DataFrames para consultas:"
      ],
      "metadata": {
        "id": "89J1DW-PWsDm"
      }
    },
    {
      "cell_type": "code",
      "source": [
        "despesas_ms.info()"
      ],
      "metadata": {
        "colab": {
          "base_uri": "https://localhost:8080/"
        },
        "id": "9GBXIcXBRxfN",
        "outputId": "12cfcf37-50e3-4ba2-8556-a6bd5f35c11f"
      },
      "execution_count": 68,
      "outputs": [
        {
          "output_type": "stream",
          "name": "stdout",
          "text": [
            "<class 'pandas.core.frame.DataFrame'>\n",
            "Int64Index: 7970 entries, 29077 to 553678\n",
            "Data columns (total 16 columns):\n",
            " #   Column                     Non-Null Count  Dtype         \n",
            "---  ------                     --------------  -----         \n",
            " 0   txNomeParlamentar          7970 non-null   object        \n",
            " 1   ideCadastro                7970 non-null   float64       \n",
            " 2   sgUF                       7970 non-null   object        \n",
            " 3   sgPartido                  7970 non-null   object        \n",
            " 4   txtDescricao               7970 non-null   object        \n",
            " 5   txtDescricaoEspecificacao  2519 non-null   object        \n",
            " 6   txtFornecedor              7970 non-null   object        \n",
            " 7   txtCNPJCPF                 7712 non-null   object        \n",
            " 8   datEmissao                 7724 non-null   datetime64[ns]\n",
            " 9   vlrLiquido                 7970 non-null   float64       \n",
            " 10  numMes                     7970 non-null   int64         \n",
            " 11  numAno                     7970 non-null   int64         \n",
            " 12  txtPassageiro              1562 non-null   object        \n",
            " 13  nuDeputadoId               7970 non-null   int64         \n",
            " 14  ideDocumento               7970 non-null   int64         \n",
            " 15  urlDocumento               5333 non-null   object        \n",
            "dtypes: datetime64[ns](1), float64(2), int64(4), object(9)\n",
            "memory usage: 1.0+ MB\n"
          ]
        }
      ]
    },
    {
      "cell_type": "code",
      "source": [
        "despesas_ms.columns.tolist()"
      ],
      "metadata": {
        "colab": {
          "base_uri": "https://localhost:8080/"
        },
        "id": "OWMppD0nRzKZ",
        "outputId": "786c5063-9193-44cd-c212-6cf047cf5142"
      },
      "execution_count": 69,
      "outputs": [
        {
          "output_type": "execute_result",
          "data": {
            "text/plain": [
              "['txNomeParlamentar',\n",
              " 'ideCadastro',\n",
              " 'sgUF',\n",
              " 'sgPartido',\n",
              " 'txtDescricao',\n",
              " 'txtDescricaoEspecificacao',\n",
              " 'txtFornecedor',\n",
              " 'txtCNPJCPF',\n",
              " 'datEmissao',\n",
              " 'vlrLiquido',\n",
              " 'numMes',\n",
              " 'numAno',\n",
              " 'txtPassageiro',\n",
              " 'nuDeputadoId',\n",
              " 'ideDocumento',\n",
              " 'urlDocumento']"
            ]
          },
          "metadata": {},
          "execution_count": 69
        }
      ]
    },
    {
      "cell_type": "code",
      "source": [
        "liderancas_partidarias.info()"
      ],
      "metadata": {
        "id": "AZHJDL4fuy5h",
        "outputId": "0bfac2ef-1f3b-4169-e3cb-5f42c65d3cae",
        "colab": {
          "base_uri": "https://localhost:8080/"
        }
      },
      "execution_count": 70,
      "outputs": [
        {
          "output_type": "stream",
          "name": "stdout",
          "text": [
            "<class 'pandas.core.frame.DataFrame'>\n",
            "Int64Index: 905 entries, 0 to 904\n",
            "Data columns (total 16 columns):\n",
            " #   Column                     Non-Null Count  Dtype         \n",
            "---  ------                     --------------  -----         \n",
            " 0   txNomeParlamentar          905 non-null    object        \n",
            " 1   ideCadastro                0 non-null      float64       \n",
            " 2   sgUF                       0 non-null      object        \n",
            " 3   sgPartido                  0 non-null      object        \n",
            " 4   txtDescricao               905 non-null    object        \n",
            " 5   txtDescricaoEspecificacao  70 non-null     object        \n",
            " 6   txtFornecedor              905 non-null    object        \n",
            " 7   txtCNPJCPF                 905 non-null    object        \n",
            " 8   datEmissao                 905 non-null    datetime64[ns]\n",
            " 9   vlrLiquido                 905 non-null    float64       \n",
            " 10  numMes                     905 non-null    int64         \n",
            " 11  numAno                     905 non-null    int64         \n",
            " 12  txtPassageiro              33 non-null     object        \n",
            " 13  nuDeputadoId               905 non-null    int64         \n",
            " 14  ideDocumento               905 non-null    int64         \n",
            " 15  urlDocumento               902 non-null    object        \n",
            "dtypes: datetime64[ns](1), float64(2), int64(4), object(9)\n",
            "memory usage: 120.2+ KB\n"
          ]
        }
      ]
    },
    {
      "cell_type": "code",
      "source": [
        "liderancas_partidarias.columns.tolist()"
      ],
      "metadata": {
        "id": "mPQLLbkIuyxW",
        "outputId": "0f608c93-85c7-4f82-ccba-956db8e9db69",
        "colab": {
          "base_uri": "https://localhost:8080/"
        }
      },
      "execution_count": 71,
      "outputs": [
        {
          "output_type": "execute_result",
          "data": {
            "text/plain": [
              "['txNomeParlamentar',\n",
              " 'ideCadastro',\n",
              " 'sgUF',\n",
              " 'sgPartido',\n",
              " 'txtDescricao',\n",
              " 'txtDescricaoEspecificacao',\n",
              " 'txtFornecedor',\n",
              " 'txtCNPJCPF',\n",
              " 'datEmissao',\n",
              " 'vlrLiquido',\n",
              " 'numMes',\n",
              " 'numAno',\n",
              " 'txtPassageiro',\n",
              " 'nuDeputadoId',\n",
              " 'ideDocumento',\n",
              " 'urlDocumento']"
            ]
          },
          "metadata": {},
          "execution_count": 71
        }
      ]
    },
    {
      "cell_type": "markdown",
      "source": [
        "#**2. Exportando os DataFrames \"depesas_ms\" e \"liderancas_partidarias\" para arquivos .xlsx:**"
      ],
      "metadata": {
        "id": "lXup_Y_P5XMI"
      }
    },
    {
      "cell_type": "markdown",
      "source": [
        "###**Aqui serão gerados dois arquivos .xlsx a serem utilizado no Power BI:**"
      ],
      "metadata": {
        "id": "gDyxHPs8ROsC"
      }
    },
    {
      "cell_type": "code",
      "source": [
        "with pd.ExcelWriter('despesas_ms.xlsx') as writer:  \n",
        "    despesas_ms.to_excel(writer, sheet_name='MS')"
      ],
      "metadata": {
        "id": "Av41hR-z5kVh"
      },
      "execution_count": 72,
      "outputs": []
    },
    {
      "cell_type": "code",
      "source": [
        "with pd.ExcelWriter('liderancas_partidarias.xlsx') as writer:  \n",
        "    liderancas_partidarias.to_excel(writer, sheet_name='MS')"
      ],
      "metadata": {
        "id": "7qMEhiJwvgnX"
      },
      "execution_count": 73,
      "outputs": []
    },
    {
      "cell_type": "markdown",
      "source": [
        "#**3. Análise dos dados:**"
      ],
      "metadata": {
        "id": "thbBCRBbZuMw"
      }
    },
    {
      "cell_type": "markdown",
      "source": [
        "###2.1. - Qual o maior valor que um parlamentar gastou com um único fornecedor? Este fornecedor em específico possui alguma ligação com o parlamentar identificado?"
      ],
      "metadata": {
        "id": "BpmyubSPmFoX"
      }
    },
    {
      "cell_type": "markdown",
      "source": [
        "###2.2. - Qual o maior valor gasto em uma única despesa de alimentação? Existe alguma explicação plausível?"
      ],
      "metadata": {
        "id": "VLUpqGitmMZv"
      }
    },
    {
      "cell_type": "markdown",
      "source": [
        "###2.3. - Qual o percentual de notas fiscais indisponíveis para consulta? Nesta relação está inclusa alguma categoria que possa vir a configurar fraude?"
      ],
      "metadata": {
        "id": "R3InxVsNmS5F"
      }
    },
    {
      "cell_type": "markdown",
      "source": [
        "###2.4 - De possíveis fraudes por falta de prestação de contas, qual o top 5 parlamentares?"
      ],
      "metadata": {
        "id": "q_h6rwsxmY-1"
      }
    },
    {
      "cell_type": "markdown",
      "source": [
        "###2.5 - Qual o parlamentar mais caro para o governo se considerado suas despesas pessoais e as despesas a partir de lideranças partidárias?"
      ],
      "metadata": {
        "id": "hLSJ7wB0mfjx"
      }
    },
    {
      "cell_type": "markdown",
      "source": [
        "###2.6 - Existe alguma despesa duplicada entre parlamentar x liderança partidária?"
      ],
      "metadata": {
        "id": "Cgtnj_JnmkQa"
      }
    },
    {
      "cell_type": "markdown",
      "source": [
        ""
      ],
      "metadata": {
        "id": "JSTimWgypiIg"
      }
    }
  ]
}